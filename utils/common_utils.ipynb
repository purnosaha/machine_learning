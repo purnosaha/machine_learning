{
 "cells": [
  {
   "cell_type": "code",
   "execution_count": 1,
   "metadata": {},
   "outputs": [],
   "source": [
    "import pandas as pd\n",
    "import matplotlib.pyplot as plt\n",
    "import seaborn as sns\n",
    "sns.set(color_codes=True)\n",
    "%matplotlib inline\n",
    "import numpy as np\n",
    "\n"
   ]
  },
  {
   "cell_type": "code",
   "execution_count": 1,
   "metadata": {},
   "outputs": [],
   "source": [
    "def print_plots(dataframe,no_of_sub_cols=3,fig_size_tuple=(30,30),title=None, plot = \"dist\" ):\n",
    "    import random as rand\n",
    "    sns.set(color_codes=True)\n",
    "    if not title:\n",
    "        title = plot + \"plot for all the numeric columns\"\n",
    "    \n",
    "    #ignoring non numeric columns\n",
    "    numeric_df = dataframe.select_dtypes(include=np.number)\n",
    "    \n",
    "    columns = numeric_df.columns\n",
    "    rows = int(np.ceil(len(columns) / no_of_sub_cols))\n",
    "    fig, axes= plt.subplots(rows,no_of_sub_cols,figsize=(fig_size_tuple[0],fig_size_tuple[1]))\n",
    "    fig.suptitle(title, fontsize=30)\n",
    "    \n",
    "    \n",
    "    #bgrcmykw\n",
    "    \n",
    "    y_axes = 0\n",
    "    x_axes = 0\n",
    "    \n",
    "    counter = 0\n",
    "    for column in columns:\n",
    "        \n",
    "        column_skew = numeric_df[column].skew()\n",
    "        \n",
    "        color_val = 'w'\n",
    "        \n",
    "        if column_skew > 0:         \n",
    "            color_val = 'g' if np.abs(column_skew) > 1 else 'c'\n",
    "        elif column_skew <0:\n",
    "            color_val = 'r' if np.abs(column_skew) > 1 else 'm'\n",
    "        \n",
    "        \n",
    "        axes_obj = axes[x_axes,y_axes]\n",
    "        if plot == \"dist\":\n",
    "            sns.distplot(numeric_df[column],color=color_val,ax=axes_obj,kde = False)\n",
    "        elif plot == \"box\":\n",
    "            sns.boxplot(numeric_df[column],color=color_val,ax=axes_obj)\n",
    "        elif plot == \"density\":\n",
    "            sns.kdeplot(numeric_df[column],color=color_val,ax=axes_obj,shade = True)\n",
    "        \n",
    "        \n",
    "        axes_obj.set_xlabel(column + \", skewness: \" + str(round(column_skew,2)),fontsize=20)\n",
    "      \n",
    "        counter += 1\n",
    "        \n",
    "        if counter % no_of_sub_cols == 0:\n",
    "            x_axes += 1\n",
    "            y_axes = 0\n",
    "        else:\n",
    "            y_axes += 1\n",
    "        \n",
    "    plt.show()"
   ]
  },
  {
   "cell_type": "code",
   "execution_count": 3,
   "metadata": {},
   "outputs": [],
   "source": [
    "corr_dict = {}\n",
    "\n",
    "def print_high_corr(df,corr_limit):\n",
    "    corr_data_set = df.corr()\n",
    "\n",
    "    corr_dict = {}\n",
    "    cols_to_delete = set()\n",
    "    for row in corr_data_set.columns:\n",
    "        for column in corr_data_set.columns:\n",
    "            if row == column:\n",
    "                continue\n",
    "            if abs(corr_data_set[row][column]) > corr_limit:\n",
    "                if row not in cols_to_delete:\n",
    "                    print( row + \" and \" + column + \" have a correlation of : \" + str(corr_data_set[row][column]) )\n",
    "                    if row not in corr_dict:\n",
    "                        corr_dict[row] = []\n",
    "                    corr_dict[row].append(column)\n",
    "                    cols_to_delete.add(column)   "
   ]
  },
  {
   "cell_type": "code",
   "execution_count": 5,
   "metadata": {},
   "outputs": [],
   "source": [
    "def getZScoreScaledDF(df):\n",
    "    from scipy.stats import zscore\n",
    "    XScaled=df.apply(zscore)\n",
    "    return XScaled\n"
   ]
  },
  {
   "cell_type": "code",
   "execution_count": null,
   "metadata": {},
   "outputs": [],
   "source": [
    "def getShapeText(df):\n",
    "    df_shape = df.shape\n",
    "    return \"The dataset has %d rows and %d columns\" % (df_shape[0],df_shape[1])"
   ]
  }
 ],
 "metadata": {
  "kernelspec": {
   "display_name": "Python 3",
   "language": "python",
   "name": "python3"
  },
  "language_info": {
   "codemirror_mode": {
    "name": "ipython",
    "version": 3
   },
   "file_extension": ".py",
   "mimetype": "text/x-python",
   "name": "python",
   "nbconvert_exporter": "python",
   "pygments_lexer": "ipython3",
   "version": "3.7.6"
  }
 },
 "nbformat": 4,
 "nbformat_minor": 4
}
